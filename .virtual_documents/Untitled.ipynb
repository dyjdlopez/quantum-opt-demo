


import pandas as pd
import numpy as np

from pyqubo import Binary, Array, Constraint, Placeholder
import neal
from tqdm import tqdm 








budget = 34.7 ## million pesos

## Population Estimates
estimates = pd.read_csv('data/dist4_2025_estimates.csv')
population = estimates.population.values

## cities
cities = np.arange(len(estimates.city))

## Tower Costs (in Million PHP)
tower_cost = pd.read_csv('data/tower_cost.csv')
cost = tower_cost.cost.values

## Tower Coverage
sites = [0,1,2,3]
coverage = [[1, 2, 5], [0, 1, 3, 4], [0, 1, 2, 3, 6], [0, 1, 2, 4, 6]]


## Variables


build = [Binary(f'build ({i}') for i in range(len(sites))]
covered = [Binary(f'covered ({j}') for j in range(len(cities))]





Q = -(population @ covered)
Q





P_b2c = 0
for r in cities:
    b_cost = 0
    for t in sites:
        if r in coverage[t]:
            b_cost += build[t]
    P_b2c += (b_cost - covered[r])**2
Pa = Constraint(P_b2c, label='build2cover')
Pa


Pb = Constraint((budget - build@cost)**2, label='budgetlim')
Pb





lmb_A = Placeholder(f"lmb_A")
lmb_B = Placeholder(f"lmb_B")

H = Q + lmb_A*Pa + lmb_B*Pb
model = H.compile()


bqm = model.to_bqm(feed_dict=feed_dict)


bqm


feasible_sols = []
for lmba in tqdm(range(40,100)):
    for lmbb in range(40,100):
        sampler = neal.SimulatedAnnealingSampler()
        feed_dict = {'lmb_A':lmba, 'lmb_B': lmbb}
        sampleset = sampler.sample(bqm, num_reads=1024, sweeps=100
                                       , beta_range=(1, 100.0)
                                       )
        dec_samples = model.decode_sampleset(sampleset, feed_dict=feed_dict)
        best = min(dec_samples, key=lambda x: x.energy)
        # store the feasible solution
        if not best.constraints(only_broken=True):
            feasible_sols.append(best)
best_feasible = min(feasible_sols, key=lambda x: x.energy)
print(best_feasible)


best.sample



