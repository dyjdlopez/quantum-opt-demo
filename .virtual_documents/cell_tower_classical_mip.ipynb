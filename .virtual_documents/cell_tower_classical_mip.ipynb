


import pandas as pd
import numpy as np

import gurobipy as gp
from gurobipy import GRB

















## Budget
budget = 34.7 ## million pesos


## Population Estimates
estimates = pd.read_csv('data/dist4_2025_estimates.csv')
population = estimates.population.values
## cities
cities = np.arange(len(estimates.city))


## Tower Costs (in Million PHP)
tower_cost = pd.read_csv('data/tower_cost.csv')
cost = tower_cost.cost.values
tower_cost


## Tower Coverage
sites, coverage = gp.multidict({
    0: [[1, 2, 5]],
    1: [[0, 1, 3, 4]],
    2: [[0, 1, 2, 3, 6]],
    3: [[0, 1, 2, 4, 6]]
})





m = gp.Model("cell_tower")





build = m.addMVar(len(sites), vtype=GRB.BINARY, name="build")
covered = m.addMVar(len(cities), vtype=GRB.BINARY, name="covered")





m.addConstrs((gp.quicksum(build[t] for t in sites if r in coverage[t]) >= covered[r]
                        for r in cities), name="build2cover")
m.addConstr(build@cost <= budget, name="budget")





m.setObjective(covered@population, GRB.MAXIMIZE)





m.optimize()








print('Recommended towers to build:')
for i in range(len(build.X)):
    if build.X[i] == 1:
        print(f'Tower {i}')





total_population = population.sum()

coverage_pct = round(100*m.objVal/total_population, 2)

print(f"\n The population coverage of the current cell tower build plan is: {coverage_pct} %")





total_cost = build.X@cost
budget_util = round(100*total_cost/budget, 2)

print(f"\n The percentage of budget consumed associated to the cell towers build plan is: {budget_util} %")
