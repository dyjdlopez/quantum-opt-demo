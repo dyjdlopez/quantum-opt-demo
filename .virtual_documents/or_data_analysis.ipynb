


import pandas as pd
import numpy as np

import matplotlib.pyplot as plt
import seaborn as sns





ncr_df = pd.read_csv('data/ncr_cities.csv')
ncr_df.head()





dist4_df = ncr_df[ncr_df.district == 4].drop(columns='district')
dist4_df


dist4_df.describe()


dist4_melt_df = dist4_df.melt(id_vars=['city'], var_name='year', value_name='population')
dist4_melt_df





sns.lineplot(data=dist4_melt_df, x='year', y='population')


sns.lineplot(data=dist4_melt_df, x='year', y='population', hue='city')


sns.boxplot(data=dist4_melt_df, x='year', y='population')


sns.boxplot(data=dist4_melt_df, x='city', y='population')






