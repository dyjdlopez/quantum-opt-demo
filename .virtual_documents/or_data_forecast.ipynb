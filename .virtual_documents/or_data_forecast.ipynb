


import pandas as pd
import numpy as np

from sklearn.linear_model import LinearRegression

import matplotlib.pyplot as plt
import seaborn as sns





ncr_df = pd.read_csv('data/ncr_cities.csv')
ncr_df.head()





dist4_df = ncr_df[ncr_df.district == 4].drop(columns='district')
dist4_df


dist4_melt_df = dist4_df.melt(id_vars=['city'], var_name='year', value_name='population')


cities = dist4_melt_df['city'].unique()
cities





makati = dist4_melt_df[dist4_melt_df.city == 'Makati'].drop(columns='city')
makati


X = makati.year.values.reshape(-1,1)
y = makati.population.values.reshape(-1,1)
makati_model = LinearRegression()
makati_model.fit(X,y)


plt.plot(makati.year, makati.population)
plt.plot(makati.year, makati_model.predict(makati.year.values.reshape(-1,1)))


makati_model.predict(np.array([[2025]]))





def make_2025_estimates(data, cities, save_loc='.'):
    
    estimates_2025 = {
        'city': cities,
        'population': []
    }
    
    for i in range(len(cities)):
        city_data = data[data.city == cities[i]].drop(columns='city')
        X = city_data.year.values.reshape(-1,1)
        y = city_data.population.values.reshape(-1,1)
        model = LinearRegression()
        model.fit(X,y)
        
        estimates = model.predict(np.array([[2025]])).ravel()[0]
        
        estimates_2025['population'].append(int(estimates))
        
    estimates_df = pd.DataFrame(estimates_2025)
    estimates_df.to_csv(f'{save_loc}\dist4_2025_estimates.csv', index=False)
                        
    return estimates_df


estimates = make_2025_estimates(dist4_melt_df, cities, 'data')






