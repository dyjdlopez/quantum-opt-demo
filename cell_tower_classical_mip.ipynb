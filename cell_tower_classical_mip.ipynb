{
 "cells": [
  {
   "cell_type": "markdown",
   "id": "abcb67a4-41a4-4056-9c1d-6c2303cfdc73",
   "metadata": {},
   "source": [
    "# NCR District 4 Cell Tower Decision Support"
   ]
  },
  {
   "cell_type": "code",
   "execution_count": 1,
   "id": "fd5b7b19-c149-46fd-952c-61ae292d01b1",
   "metadata": {},
   "outputs": [],
   "source": [
    "import pandas as pd\n",
    "import numpy as np\n",
    "\n",
    "import gurobipy as gp\n",
    "from gurobipy import GRB\n",
    "\n",
    "import matplotlib.pyplot as plt\n",
    "import seaborn as sns"
   ]
  },
  {
   "cell_type": "markdown",
   "id": "48f8a2cd-f2a2-49a7-a167-1b01c72cf742",
   "metadata": {},
   "source": [
    "# Part 1: Problem Formulation"
   ]
  },
  {
   "cell_type": "markdown",
   "id": "33089ea5-00e0-45bc-bd6f-80e0652ce2aa",
   "metadata": {},
   "source": [
    "### Sets and Indices\n",
    "\n",
    "$i \\in T$: Index and set of potential sites to build a tower.\n",
    "\n",
    "$j \\in C$: Index and set of cities.\n",
    "\n",
    "$G(T,C,E)$: A bipartite graph defined over the set $T$ of potential sites to build a tower,  the set of regions $R$ that we want to cover, and $E$ is the set of edges, where we have an edge $(i,j) \\in E$ if region $j \\in C$ can be covered by a tower on location $i \\in T$.\n",
    "\n",
    "### Parameters\n",
    "\n",
    "$c_{i} \\in \\mathbb{R}^+$: The cost of setting up a tower at site $i$.\n",
    "\n",
    "$p_{j} \\in \\mathbb{N}$: The population at city $j$.\n",
    "\n",
    "### Decision Variables\n",
    "\n",
    "$covered_{j} \\in \\{0, 1 \\}$: This variable is equal to 1 if city $j$ is covered; and 0 otherwise.\n",
    "\n",
    "$build_{i} \\in \\{0, 1 \\}$: This variable is equal to 1 if tower $i$ is built; and 0 otherwise.\n",
    "\n",
    "### Objective Function(s)\n",
    "\n",
    "- **Population covered**. We seek to maximize the total population covered by the towers.\n",
    "\n",
    "\\begin{equation}\n",
    "\\max\\sum_{j \\in C} p_{j} \\cdot covered_{j}\n",
    "\\tag{0}\n",
    "\\end{equation}\n",
    "\n",
    "### Constraints\n",
    "\n",
    "- **Coverage**. For each city $j \\in R$ ensure that at least one tower that covers a city must be selected.\n",
    "\n",
    "\\begin{equation}\n",
    "\\sum_{(i,j) \\in E} build_{i} \\geq covered_{j} \\quad \\forall j \\in R\n",
    "\\tag{1}\n",
    "\\end{equation}\n",
    "\n",
    "- **Budget**. We need to ensure that the total cost of building towers do not exceed the allocated budget.\n",
    "\n",
    "\\begin{equation}\n",
    "\\sum_{i \\in T} c_{i} \\cdot build_{i} \\leq \\text{budget}\n",
    "\\tag{2}\n",
    "\\end{equation}"
   ]
  },
  {
   "cell_type": "markdown",
   "id": "2035b384-9216-4e29-bd08-d63dd8d02d6c",
   "metadata": {},
   "source": [
    "This example considers a bipartite graph for 6 towers and 9 regions. The following table illustrates which regions (columns) are covered by each cell tower site (rows).\n",
    "\n",
    "| <i></i> | Las Piñas | Makati | Muntinlupa | Parañaque | Pasay | Pateros | Taguig |\n",
    "| --- | --- | --- | --- | --- | --- | --- | --- |\n",
    "| Tower 0 | - | 1 | 1 | - | - | 1 | - |\n",
    "| Tower 1 | 1 | 1 | - | 1 | 1 | - | - |\n",
    "| Tower 2 | 1 | 1 | 1 | 1 | - | - | 1 |\n",
    "| Tower 3 | 1 | 1 | 1 | - | 1 | - | 1 |\n"
   ]
  },
  {
   "cell_type": "markdown",
   "id": "d2297d5f-ff3c-4abf-a9f5-88289422590e",
   "metadata": {},
   "source": [
    "# Part 2: Model Encoding"
   ]
  },
  {
   "cell_type": "markdown",
   "id": "9c52cbcf-93d9-4ea5-8dba-9e9215936979",
   "metadata": {},
   "source": [
    "### Retrieve Parameter Data"
   ]
  },
  {
   "cell_type": "code",
   "execution_count": 48,
   "id": "e4710bf0-8964-4295-b3f1-6f673243514a",
   "metadata": {},
   "outputs": [],
   "source": [
    "## Budget\n",
    "budget = 34.7 ## million pesos"
   ]
  },
  {
   "cell_type": "code",
   "execution_count": 49,
   "id": "d22da22c-2c98-4139-a6e1-b9047694679a",
   "metadata": {},
   "outputs": [],
   "source": [
    "## Population Estimates\n",
    "estimates = pd.read_csv('data/dist4_2025_estimates.csv')\n",
    "population = estimates.population.values\n",
    "## cities\n",
    "cities = np.arange(len(estimates.city))"
   ]
  },
  {
   "cell_type": "code",
   "execution_count": 50,
   "id": "70f4916c-d2d5-474b-b1ca-d3e1c27b6380",
   "metadata": {},
   "outputs": [
    {
     "data": {
      "text/html": [
       "<div>\n",
       "<style scoped>\n",
       "    .dataframe tbody tr th:only-of-type {\n",
       "        vertical-align: middle;\n",
       "    }\n",
       "\n",
       "    .dataframe tbody tr th {\n",
       "        vertical-align: top;\n",
       "    }\n",
       "\n",
       "    .dataframe thead th {\n",
       "        text-align: right;\n",
       "    }\n",
       "</style>\n",
       "<table border=\"1\" class=\"dataframe\">\n",
       "  <thead>\n",
       "    <tr style=\"text-align: right;\">\n",
       "      <th></th>\n",
       "      <th>tower</th>\n",
       "      <th>cost</th>\n",
       "    </tr>\n",
       "  </thead>\n",
       "  <tbody>\n",
       "    <tr>\n",
       "      <th>0</th>\n",
       "      <td>0</td>\n",
       "      <td>8.81</td>\n",
       "    </tr>\n",
       "    <tr>\n",
       "      <th>1</th>\n",
       "      <td>1</td>\n",
       "      <td>7.77</td>\n",
       "    </tr>\n",
       "    <tr>\n",
       "      <th>2</th>\n",
       "      <td>2</td>\n",
       "      <td>8.36</td>\n",
       "    </tr>\n",
       "    <tr>\n",
       "      <th>3</th>\n",
       "      <td>3</td>\n",
       "      <td>12.70</td>\n",
       "    </tr>\n",
       "  </tbody>\n",
       "</table>\n",
       "</div>"
      ],
      "text/plain": [
       "   tower   cost\n",
       "0      0   8.81\n",
       "1      1   7.77\n",
       "2      2   8.36\n",
       "3      3  12.70"
      ]
     },
     "execution_count": 50,
     "metadata": {},
     "output_type": "execute_result"
    }
   ],
   "source": [
    "## Tower Costs (in Million PHP)\n",
    "tower_cost = pd.read_csv('data/tower_cost.csv')\n",
    "cost = tower_cost.cost.values\n",
    "tower_cost"
   ]
  },
  {
   "cell_type": "code",
   "execution_count": 51,
   "id": "d5943f56-5e88-4ac5-9b68-f384be9237db",
   "metadata": {},
   "outputs": [],
   "source": [
    "## Tower Coverage\n",
    "sites, coverage = gp.multidict({\n",
    "    0: [[1, 2, 5]],\n",
    "    1: [[0, 1, 3, 4]],\n",
    "    2: [[0, 1, 2, 3, 6]],\n",
    "    3: [[0, 1, 2, 4, 6]]\n",
    "})"
   ]
  },
  {
   "cell_type": "markdown",
   "id": "7f3fdfd6-000b-4989-a791-1b0ad4293d57",
   "metadata": {},
   "source": [
    "## Model Setup"
   ]
  },
  {
   "cell_type": "code",
   "execution_count": 52,
   "id": "0f493bdd-7075-4077-8325-4f150bc6225a",
   "metadata": {},
   "outputs": [],
   "source": [
    "m = gp.Model(\"cell_tower\")"
   ]
  },
  {
   "cell_type": "markdown",
   "id": "f2a20d2e-505e-4225-a420-e11ed9e2f94f",
   "metadata": {},
   "source": [
    "## Variable Declaration"
   ]
  },
  {
   "cell_type": "code",
   "execution_count": 53,
   "id": "152e6f69-180b-4da2-b675-c630fa22e055",
   "metadata": {},
   "outputs": [],
   "source": [
    "build = m.addMVar(len(sites), vtype=GRB.BINARY, name=\"build\")\n",
    "covered = m.addMVar(len(cities), vtype=GRB.BINARY, name=\"covered\")"
   ]
  },
  {
   "cell_type": "markdown",
   "id": "9445e02a-759a-42a2-b57c-6099248241a0",
   "metadata": {},
   "source": [
    "## Add Constraints"
   ]
  },
  {
   "cell_type": "code",
   "execution_count": 54,
   "id": "157fae51-1095-4688-aa60-9cfe8fbedb67",
   "metadata": {},
   "outputs": [
    {
     "data": {
      "text/plain": [
       "<MConstr () *awaiting model update*>"
      ]
     },
     "execution_count": 54,
     "metadata": {},
     "output_type": "execute_result"
    }
   ],
   "source": [
    "m.addConstrs((gp.quicksum(build[t] for t in sites if r in coverage[t]) >= covered[r]\n",
    "                        for r in cities), name=\"build2cover\")\n",
    "m.addConstr(build@cost <= budget, name=\"budget\")"
   ]
  },
  {
   "cell_type": "markdown",
   "id": "c05703cb-7d2a-4629-981f-2d046b6b4e17",
   "metadata": {},
   "source": [
    "## Add Objective Function"
   ]
  },
  {
   "cell_type": "code",
   "execution_count": 55,
   "id": "033e0817-ffe2-406a-b7e4-79aa51993005",
   "metadata": {},
   "outputs": [],
   "source": [
    "m.setObjective(covered@population, GRB.MAXIMIZE)"
   ]
  },
  {
   "cell_type": "markdown",
   "id": "d7fb50ee-d882-4fa9-8cbc-588688616cce",
   "metadata": {},
   "source": [
    "## Optimize the MIP"
   ]
  },
  {
   "cell_type": "code",
   "execution_count": 56,
   "id": "b4d94e99-2c7e-4b1d-81ea-eacb3d47097b",
   "metadata": {},
   "outputs": [
    {
     "name": "stdout",
     "output_type": "stream",
     "text": [
      "Gurobi Optimizer version 10.0.0 build v10.0.0rc2 (win64)\n",
      "\n",
      "CPU model: AMD Ryzen 5 5600H with Radeon Graphics, instruction set [SSE2|AVX|AVX2]\n",
      "Thread count: 6 physical cores, 12 logical processors, using up to 12 threads\n",
      "\n",
      "Optimize a model with 8 rows, 11 columns and 28 nonzeros\n",
      "Model fingerprint: 0xf8b7c7b0\n",
      "Variable types: 0 continuous, 11 integer (11 binary)\n",
      "Coefficient statistics:\n",
      "  Matrix range     [1e+00, 1e+01]\n",
      "  Objective range  [7e+04, 1e+06]\n",
      "  Bounds range     [1e+00, 1e+00]\n",
      "  RHS range        [3e+01, 3e+01]\n",
      "Found heuristic solution: objective -0.0000000\n",
      "Presolve removed 3 rows and 3 columns\n",
      "Presolve time: 0.01s\n",
      "Presolved: 5 rows, 8 columns, 17 nonzeros\n",
      "Found heuristic solution: objective 4194938.0000\n",
      "Variable types: 0 continuous, 8 integer (8 binary)\n",
      "\n",
      "Explored 0 nodes (0 simplex iterations) in 0.03 seconds (0.00 work units)\n",
      "Thread count was 12 (of 12 available processors)\n",
      "\n",
      "Solution count 2: 4.19494e+06 -0 \n",
      "\n",
      "Optimal solution found (tolerance 1.00e-04)\n",
      "Best objective 4.194938000000e+06, best bound 4.194938000000e+06, gap 0.0000%\n"
     ]
    }
   ],
   "source": [
    "m.optimize()"
   ]
  },
  {
   "cell_type": "markdown",
   "id": "0b0394de-9223-4573-ae89-d2703d94cc4e",
   "metadata": {},
   "source": [
    "# Part 3: Analysis\n",
    "\n",
    "The result of the optimization model shows that the maximum number of subscribers can be covered with PHP 34.7M is 4,194,938 people"
   ]
  },
  {
   "cell_type": "markdown",
   "id": "18a59a3e-ac75-4684-8697-f9c7ec4d66d1",
   "metadata": {},
   "source": [
    "We can determine the suggested site plan by retrieving the values from the model."
   ]
  },
  {
   "cell_type": "code",
   "execution_count": 60,
   "id": "c9d5ef8d-c624-42f6-aa67-946017477130",
   "metadata": {},
   "outputs": [
    {
     "name": "stdout",
     "output_type": "stream",
     "text": [
      "Recommended towers to build:\n",
      "Tower 0\n",
      "Tower 1\n",
      "Tower 2\n"
     ]
    }
   ],
   "source": [
    "print('Recommended towers to build:')\n",
    "for i in range(len(build.X)):\n",
    "    if build.X[i] == 1:\n",
    "        print(f'Tower {i}')"
   ]
  },
  {
   "cell_type": "markdown",
   "id": "613f1254-ebb0-4a34-83fb-077e4f62e77f",
   "metadata": {},
   "source": [
    "### Tower Coverage %"
   ]
  },
  {
   "cell_type": "code",
   "execution_count": 62,
   "id": "54e9c056-a1d6-4d62-8439-0f058e3a76fd",
   "metadata": {},
   "outputs": [
    {
     "name": "stdout",
     "output_type": "stream",
     "text": [
      "\n",
      " The population coverage of the current cell tower build plan is: 100.0 %\n"
     ]
    }
   ],
   "source": [
    "total_population = population.sum()\n",
    "\n",
    "coverage_pct = round(100*m.objVal/total_population, 2)\n",
    "\n",
    "print(f\"\\n The population coverage of the current cell tower build plan is: {coverage_pct} %\")"
   ]
  },
  {
   "cell_type": "markdown",
   "id": "00538c3d-5c43-400d-8781-c5b3132c66c0",
   "metadata": {},
   "source": [
    "### Budget Utilization"
   ]
  },
  {
   "cell_type": "code",
   "execution_count": 66,
   "id": "b326dc1e-97af-4e59-a3e1-a9215131e5b9",
   "metadata": {},
   "outputs": [
    {
     "name": "stdout",
     "output_type": "stream",
     "text": [
      "\n",
      " The percentage of budget consumed associated to the cell towers build plan is: 71.87 %\n"
     ]
    }
   ],
   "source": [
    "total_cost = build.X@cost\n",
    "budget_util = round(100*total_cost/budget, 2)\n",
    "\n",
    "print(f\"\\n The percentage of budget consumed associated to the cell towers build plan is: {budget_util} %\")"
   ]
  }
 ],
 "metadata": {
  "kernelspec": {
   "display_name": "Python 3 (ipykernel)",
   "language": "python",
   "name": "python3"
  },
  "language_info": {
   "codemirror_mode": {
    "name": "ipython",
    "version": 3
   },
   "file_extension": ".py",
   "mimetype": "text/x-python",
   "name": "python",
   "nbconvert_exporter": "python",
   "pygments_lexer": "ipython3",
   "version": "3.9.13"
  }
 },
 "nbformat": 4,
 "nbformat_minor": 5
}
