{
 "cells": [
  {
   "cell_type": "code",
   "execution_count": 1,
   "id": "dcb11677-7334-4d70-8c3d-4926013a2008",
   "metadata": {},
   "outputs": [],
   "source": [
    "import pyqubo as pq\n",
    "import numpy as np\n",
    "\n",
    "from pyqubo import Array\n",
    "from pyqubo import Binary\n",
    "import neal"
   ]
  },
  {
   "cell_type": "markdown",
   "id": "18389e63-6aec-4e6f-b9e9-f1152568a2ce",
   "metadata": {},
   "source": [
    "Model the following equation based on Example 1 of the QUBO Tutorial Book (pp.5-6)\n",
    "\n",
    "$$y = \\min{x^TQx} $$\n",
    "$$ y = -5(x_0)^2 - 3(x_1)^2 - 8(x_2)^2 - 6(x_3)^2 +  4x_0x_1 +8x_0x_2 + 2x_1x_2 + 10x_2x_3$$"
   ]
  },
  {
   "cell_type": "markdown",
   "id": "a2fb97af-bcdf-483e-87b9-ed9bdecd89b0",
   "metadata": {},
   "source": [
    "## 1. Using Straightforward Binary Quadratic Equations"
   ]
  },
  {
   "cell_type": "markdown",
   "id": "dc188f2c-d650-4330-9eec-2053e8929c29",
   "metadata": {},
   "source": [
    "### Variable Declaration"
   ]
  },
  {
   "cell_type": "code",
   "execution_count": 2,
   "id": "a0347ae3-3c48-45f8-bdbd-a172a3186056",
   "metadata": {},
   "outputs": [],
   "source": [
    "x0, x1, x2, x3 = Binary('x0'), Binary('x1'), Binary('x2'), Binary('x3')"
   ]
  },
  {
   "cell_type": "markdown",
   "id": "6f85dcc8-eefe-4df0-be59-c5ee0409003c",
   "metadata": {},
   "source": [
    "### Designing the Hamiltonian"
   ]
  },
  {
   "cell_type": "code",
   "execution_count": 3,
   "id": "cecb0d23-81eb-443a-82bf-5db418f5249e",
   "metadata": {},
   "outputs": [],
   "source": [
    "linear = -5*x0**2 - 3*x1**2 - 8*x2**2 - 6*x3**2\n",
    "quadratic = 4*x0*x1 + 8*x0*x2 + 2*x1*x2 + 10*x2*x3"
   ]
  },
  {
   "cell_type": "code",
   "execution_count": 5,
   "id": "0782dd5e-0590-4f5d-a2ad-0c0e242683d0",
   "metadata": {},
   "outputs": [
    {
     "name": "stdout",
     "output_type": "stream",
     "text": [
      "((((10.000000 * Binary('x2')) * Binary('x3')) + ((2.000000 * Binary('x1')) * Binary('x2')) + ((4.000000 * Binary('x0')) * Binary('x1')) + ((8.000000 * Binary('x0')) * Binary('x2'))) + (-1.000000 * (6.000000 * (Binary('x3') * Binary('x3')))) + (-1.000000 * (8.000000 * (Binary('x2') * Binary('x2')))) + (-5.000000 * (Binary('x0') * Binary('x0'))) + (-1.000000 * (3.000000 * (Binary('x1') * Binary('x1')))))\n"
     ]
    }
   ],
   "source": [
    "H = linear + quadratic\n",
    "print(H)"
   ]
  },
  {
   "cell_type": "markdown",
   "id": "e8477ced-746b-4a9b-8566-8122c649008a",
   "metadata": {},
   "source": [
    "### Model Compilation"
   ]
  },
  {
   "cell_type": "code",
   "execution_count": 6,
   "id": "4ecc6b44-0b25-42b4-845c-c6e1a0ca288b",
   "metadata": {},
   "outputs": [],
   "source": [
    "model = H.compile()\n",
    "bqm = model.to_bqm()"
   ]
  },
  {
   "cell_type": "markdown",
   "id": "8edfaec2-3635-44d3-821c-d994b0e9a24f",
   "metadata": {},
   "source": [
    "### Running Simulated Annealing"
   ]
  },
  {
   "cell_type": "code",
   "execution_count": 7,
   "id": "36baee70-511f-4dd2-b29a-4d55118c5b56",
   "metadata": {},
   "outputs": [],
   "source": [
    "sa = neal.SimulatedAnnealingSampler()\n",
    "sampleset = sa.sample(bqm, num_reads=1024)"
   ]
  },
  {
   "cell_type": "code",
   "execution_count": 8,
   "id": "5020c633-dafd-4137-99fa-ada02cfea590",
   "metadata": {},
   "outputs": [
    {
     "name": "stdout",
     "output_type": "stream",
     "text": [
      "y =  -11.0\n",
      "x =  {'x0': 1, 'x1': 0, 'x2': 0, 'x3': 1}\n"
     ]
    }
   ],
   "source": [
    "decoded_samples = model.decode_sampleset(sampleset)\n",
    "best_sample = min(decoded_samples, key=lambda x: x.energy)\n",
    "\n",
    "print('y = ', best_sample.energy)\n",
    "print('x = ', best_sample.sample)"
   ]
  },
  {
   "cell_type": "markdown",
   "id": "b5268e74-90f8-4a5e-ba49-e76cd5408720",
   "metadata": {},
   "source": [
    "## 2. Using a more vectorized approach (Arrays)"
   ]
  },
  {
   "cell_type": "code",
   "execution_count": 9,
   "id": "015900e6-c5b0-458c-966d-565520602ce9",
   "metadata": {},
   "outputs": [
    {
     "data": {
      "text/plain": [
       "Array([Binary('x[0]'), Binary('x[1]'), Binary('x[2]'), Binary('x[3]')])"
      ]
     },
     "execution_count": 9,
     "metadata": {},
     "output_type": "execute_result"
    }
   ],
   "source": [
    "x = Array.create('x', shape=(4), vartype='BINARY')\n",
    "x"
   ]
  },
  {
   "cell_type": "code",
   "execution_count": 10,
   "id": "7ad1e78f-dd6c-479b-8d43-e7223a8567b2",
   "metadata": {},
   "outputs": [
    {
     "data": {
      "text/plain": [
       "array([[-5.,  2.,  4.,  0.],\n",
       "       [ 2., -3.,  1.,  0.],\n",
       "       [ 4.,  1., -8.,  5.],\n",
       "       [ 0.,  0.,  5., -6.]])"
      ]
     },
     "execution_count": 10,
     "metadata": {},
     "output_type": "execute_result"
    }
   ],
   "source": [
    "## make a numpy matrix for coeff assignment\n",
    "Q = np.zeros((4,4))\n",
    "\n",
    "## Quadratic part\n",
    "## Interactions are always halved to preserve equivalence to Ising models\n",
    "Q[0,1] = 4/2\n",
    "Q[0,2] = 8/2\n",
    "Q[1,2] = 2/2\n",
    "Q[2,3] = 10/2\n",
    "\n",
    "Q += Q.T\n",
    "np.fill_diagonal(Q, [-5,-3,-8,-6]) ## linear part\n",
    "Q"
   ]
  },
  {
   "cell_type": "code",
   "execution_count": 11,
   "id": "6baea39d-94a5-4524-adc4-1b8380e385dc",
   "metadata": {},
   "outputs": [],
   "source": [
    "H = x.T @ Q @ x"
   ]
  },
  {
   "cell_type": "code",
   "execution_count": 12,
   "id": "1bfda6f9-d4a8-4da7-b4f6-c9ad50a1fffd",
   "metadata": {},
   "outputs": [],
   "source": [
    "model = H.compile()\n",
    "bqm = model.to_bqm()"
   ]
  },
  {
   "cell_type": "code",
   "execution_count": 13,
   "id": "1232d62e-6948-4ad4-ae7f-b904a6700bf0",
   "metadata": {},
   "outputs": [
    {
     "name": "stdout",
     "output_type": "stream",
     "text": [
      "y =  -11.0\n",
      "x =  {'x[0]': 1, 'x[1]': 0, 'x[2]': 0, 'x[3]': 1}\n"
     ]
    }
   ],
   "source": [
    "sa = neal.SimulatedAnnealingSampler()\n",
    "sampleset = sa.sample(bqm, num_reads=1024)\n",
    "decoded_samples = model.decode_sampleset(sampleset)\n",
    "best_sample = min(decoded_samples, key=lambda x: x.energy)\n",
    "\n",
    "print('y = ', best_sample.energy)\n",
    "print('x = ', best_sample.sample)"
   ]
  },
  {
   "cell_type": "code",
   "execution_count": null,
   "id": "a4f42924-775e-4f61-a938-56803e41d3fb",
   "metadata": {},
   "outputs": [],
   "source": []
  }
 ],
 "metadata": {
  "kernelspec": {
   "display_name": "Python 3 (ipykernel)",
   "language": "python",
   "name": "python3"
  },
  "language_info": {
   "codemirror_mode": {
    "name": "ipython",
    "version": 3
   },
   "file_extension": ".py",
   "mimetype": "text/x-python",
   "name": "python",
   "nbconvert_exporter": "python",
   "pygments_lexer": "ipython3",
   "version": "3.10.14"
  }
 },
 "nbformat": 4,
 "nbformat_minor": 5
}
